{
 "cells": [
  {
   "cell_type": "code",
   "execution_count": 1,
   "id": "f64a820a",
   "metadata": {},
   "outputs": [],
   "source": [
    "# Lab 6 - Association Rule Mining with Apriori and FP-Growth"
   ]
  },
  {
   "cell_type": "code",
   "execution_count": 2,
   "id": "f351cd4a",
   "metadata": {},
   "outputs": [],
   "source": [
    "# 🧾 Metadata\n",
    "# Name: Avinna Bhattarai\n",
    "# Course: MSCS 634\n",
    "# Assignment: Lab 6"
   ]
  },
  {
   "cell_type": "code",
   "execution_count": 3,
   "id": "eeebba0e",
   "metadata": {},
   "outputs": [],
   "source": [
    "# Step 1: Imports & Data Load\n",
    "# We import all necessary libraries for data handling, visualization, and mining.\n",
    "# These are foundational tools for performing frequent pattern and association rule mining.\n",
    "import pandas as pd\n",
    "import matplotlib.pyplot as plt\n",
    "import seaborn as sns\n",
    "from collections import Counter"
   ]
  },
  {
   "cell_type": "code",
   "execution_count": 4,
   "id": "00c9ff1e",
   "metadata": {},
   "outputs": [
    {
     "name": "stdout",
     "output_type": "stream",
     "text": [
      "Columns in the dataset: ['timestamp', 'visitorid', 'event', 'itemid', 'transactionid']\n"
     ]
    },
    {
     "data": {
      "text/html": [
       "<div>\n",
       "<style scoped>\n",
       "    .dataframe tbody tr th:only-of-type {\n",
       "        vertical-align: middle;\n",
       "    }\n",
       "\n",
       "    .dataframe tbody tr th {\n",
       "        vertical-align: top;\n",
       "    }\n",
       "\n",
       "    .dataframe thead th {\n",
       "        text-align: right;\n",
       "    }\n",
       "</style>\n",
       "<table border=\"1\" class=\"dataframe\">\n",
       "  <thead>\n",
       "    <tr style=\"text-align: right;\">\n",
       "      <th></th>\n",
       "      <th>timestamp</th>\n",
       "      <th>visitorid</th>\n",
       "      <th>event</th>\n",
       "      <th>itemid</th>\n",
       "      <th>transactionid</th>\n",
       "    </tr>\n",
       "  </thead>\n",
       "  <tbody>\n",
       "    <tr>\n",
       "      <th>0</th>\n",
       "      <td>1433221332117</td>\n",
       "      <td>257597</td>\n",
       "      <td>view</td>\n",
       "      <td>355908</td>\n",
       "      <td>NaN</td>\n",
       "    </tr>\n",
       "    <tr>\n",
       "      <th>1</th>\n",
       "      <td>1433224214164</td>\n",
       "      <td>992329</td>\n",
       "      <td>view</td>\n",
       "      <td>248676</td>\n",
       "      <td>NaN</td>\n",
       "    </tr>\n",
       "    <tr>\n",
       "      <th>2</th>\n",
       "      <td>1433221999827</td>\n",
       "      <td>111016</td>\n",
       "      <td>view</td>\n",
       "      <td>318965</td>\n",
       "      <td>NaN</td>\n",
       "    </tr>\n",
       "    <tr>\n",
       "      <th>3</th>\n",
       "      <td>1433221955914</td>\n",
       "      <td>483717</td>\n",
       "      <td>view</td>\n",
       "      <td>253185</td>\n",
       "      <td>NaN</td>\n",
       "    </tr>\n",
       "    <tr>\n",
       "      <th>4</th>\n",
       "      <td>1433221337106</td>\n",
       "      <td>951259</td>\n",
       "      <td>view</td>\n",
       "      <td>367447</td>\n",
       "      <td>NaN</td>\n",
       "    </tr>\n",
       "  </tbody>\n",
       "</table>\n",
       "</div>"
      ],
      "text/plain": [
       "       timestamp  visitorid event  itemid  transactionid\n",
       "0  1433221332117     257597  view  355908            NaN\n",
       "1  1433224214164     992329  view  248676            NaN\n",
       "2  1433221999827     111016  view  318965            NaN\n",
       "3  1433221955914     483717  view  253185            NaN\n",
       "4  1433221337106     951259  view  367447            NaN"
      ]
     },
     "execution_count": 4,
     "metadata": {},
     "output_type": "execute_result"
    }
   ],
   "source": [
    "# Step 2: Load Events Data\n",
    "# Load the Retail Rocket events data locally. This CSV includes user interactions like views and purchases.\n",
    "# We start with an overview to ensure we loaded the file correctly and understand its structure.\n",
    "file_path = 'archive/events.csv'  \n",
    "\n",
    "df = pd.read_csv(file_path)\n",
    "print(\"Columns in the dataset:\", df.columns.tolist())\n",
    "df.head()"
   ]
  },
  {
   "cell_type": "code",
   "execution_count": 5,
   "id": "0232ef2b",
   "metadata": {},
   "outputs": [
    {
     "name": "stdout",
     "output_type": "stream",
     "text": [
      "Cleaned columns: ['timestamp', 'visitorid', 'event', 'itemid', 'transactionid']\n",
      "Warning: 'event_type' column not found. Available columns: ['timestamp', 'visitorid', 'event', 'itemid', 'transactionid']\n"
     ]
    }
   ],
   "source": [
    "# Step 3: Data Cleaning\n",
    "# Clean column names to ensure consistent lowercase formatting.\n",
    "df.columns = df.columns.str.strip().str.lower()\n",
    "print(\"Cleaned columns:\", df.columns.tolist())\n",
    "\n",
    "# Try to inspect column names to find a substitute if 'event_type' is missing\n",
    "if not 'event_type' in df.columns:\n",
    "    print(\"Warning: 'event_type' column not found. Available columns:\", df.columns.tolist())\n",
    "else:\n",
    "    # Filter the dataset to include only 'view' and 'purchase' events for transaction relevance.\n",
    "    df = df[df['event_type'].isin(['view', 'purchase'])]\n",
    "\n",
    "# Convert itemid to string and keep only the necessary columns for transaction creation\n",
    "if 'itemid' in df.columns and 'visitorid' in df.columns:\n",
    "    df['itemid'] = df['itemid'].astype(str)\n",
    "    df_clean = df[['visitorid', 'itemid']].drop_duplicates()\n",
    "else:\n",
    "    raise ValueError(\"Required columns 'visitorid' and/or 'itemid' are missing from the dataset.\")\n"
   ]
  },
  {
   "cell_type": "code",
   "execution_count": 6,
   "id": "1d34afb7",
   "metadata": {},
   "outputs": [
    {
     "data": {
      "text/html": [
       "<div>\n",
       "<style scoped>\n",
       "    .dataframe tbody tr th:only-of-type {\n",
       "        vertical-align: middle;\n",
       "    }\n",
       "\n",
       "    .dataframe tbody tr th {\n",
       "        vertical-align: top;\n",
       "    }\n",
       "\n",
       "    .dataframe thead th {\n",
       "        text-align: right;\n",
       "    }\n",
       "</style>\n",
       "<table border=\"1\" class=\"dataframe\">\n",
       "  <thead>\n",
       "    <tr style=\"text-align: right;\">\n",
       "      <th></th>\n",
       "      <th>visitorid</th>\n",
       "      <th>itemid</th>\n",
       "    </tr>\n",
       "  </thead>\n",
       "  <tbody>\n",
       "    <tr>\n",
       "      <th>0</th>\n",
       "      <td>0</td>\n",
       "      <td>[285930, 357564, 67045]</td>\n",
       "    </tr>\n",
       "    <tr>\n",
       "      <th>1</th>\n",
       "      <td>1</td>\n",
       "      <td>[72028]</td>\n",
       "    </tr>\n",
       "    <tr>\n",
       "      <th>2</th>\n",
       "      <td>2</td>\n",
       "      <td>[216305, 325215, 342816, 259884]</td>\n",
       "    </tr>\n",
       "    <tr>\n",
       "      <th>3</th>\n",
       "      <td>3</td>\n",
       "      <td>[385090]</td>\n",
       "    </tr>\n",
       "    <tr>\n",
       "      <th>4</th>\n",
       "      <td>4</td>\n",
       "      <td>[177677]</td>\n",
       "    </tr>\n",
       "  </tbody>\n",
       "</table>\n",
       "</div>"
      ],
      "text/plain": [
       "   visitorid                            itemid\n",
       "0          0           [285930, 357564, 67045]\n",
       "1          1                           [72028]\n",
       "2          2  [216305, 325215, 342816, 259884]\n",
       "3          3                          [385090]\n",
       "4          4                          [177677]"
      ]
     },
     "execution_count": 6,
     "metadata": {},
     "output_type": "execute_result"
    }
   ],
   "source": [
    "# Step 4: Transaction Formatting\n",
    "# We group items by each visitor ID to prepare a list-style transaction format.\n",
    "# This is required for Apriori and FP-Growth input.\n",
    "transactions = df_clean.groupby('visitorid')['itemid'].apply(list).reset_index()\n",
    "transactions.head()"
   ]
  },
  {
   "cell_type": "code",
   "execution_count": null,
   "id": "596ddb93",
   "metadata": {},
   "outputs": [
    {
     "data": {
      "image/png": "[encoded data removed]",
      "text/plain": [
       "<Figure size 1000x600 with 1 Axes>"
      ]
     },
     "metadata": {},
     "output_type": "display_data"
    },
    {
     "ename": "",
     "evalue": "",
     "output_type": "error",
     "traceback": [
      "\u001b[1;31mThe Kernel crashed while executing code in the current cell or a previous cell. \n",
      "\u001b[1;31mPlease review the code in the cell(s) to identify a possible cause of the failure. \n",
      "\u001b[1;31mClick <a href='https://aka.ms/vscodeJupyterKernelCrash'>here</a> for more info. \n",
      "\u001b[1;31mView Jupyter <a href='command:jupyter.viewOutput'>log</a> for further details."
     ]
    }
   ],
   "source": [
    "# Step 5: Visualize Most Frequent Items\n",
    "# We count how often each item appears and plot the top 20.\n",
    "# This provides insight into product popularity and helps verify data consistency.\n",
    "item_counts = Counter([item for sublist in transactions['itemid'] for item in sublist])\n",
    "top_items = pd.DataFrame(item_counts.items(), columns=['item', 'count']).sort_values(by='count', ascending=False).head(20)\n",
    "\n",
    "plt.figure(figsize=(10,6))\n",
    "sns.barplot(data=top_items, x='count', y='item', hue='item', palette='Blues_d', legend=False)\n",
    "plt.title(\"Top 20 Most Frequent Items\")\n",
    "plt.xlabel(\"Count\")\n",
    "plt.ylabel(\"Item ID\")\n",
    "plt.tight_layout()\n",
    "plt.show()"
   ]
  },
  {
   "cell_type": "code",
   "execution_count": null,
   "id": "5bfe1dde",
   "metadata": {},
   "outputs": [],
   "source": [
    "# Step 6: Apriori Algorithm\n",
    "# Apply Apriori to identify frequent itemsets based on minimum support.\n",
    "# This helps uncover common product combinations in user behavior.\n",
    "from mlxtend.preprocessing import TransactionEncoder\n",
    "from mlxtend.frequent_patterns import apriori, association_rules\n",
    "\n",
    "te = TransactionEncoder()\n",
    "te_data = te.fit(transactions['itemid']).transform(transactions['itemid'])\n",
    "df_encoded = pd.DataFrame(te_data, columns=te.columns_)\n",
    "\n",
    "frequent_itemsets_apriori = apriori(df_encoded, min_support=0.01, use_colnames=True)\n",
    "frequent_itemsets_apriori.sort_values(by='support', ascending=False).head()\n"
   ]
  },
  {
   "cell_type": "code",
   "execution_count": null,
   "id": "f092ff39",
   "metadata": {},
   "outputs": [],
   "source": [
    "# Visualize Apriori Itemsets\n",
    "# We display the top 10 most frequent itemsets found by Apriori.\n",
    "# This gives a quick understanding of strong item combinations.\n",
    "top_apriori = frequent_itemsets_apriori.nlargest(10, 'support')\n",
    "sns.barplot(data=top_apriori, x='support', y=top_apriori['itemsets'].astype(str))\n",
    "plt.title('Top 10 Frequent Itemsets (Apriori)')\n",
    "plt.xticks(rotation=45)\n",
    "plt.tight_layout()\n",
    "plt.show()"
   ]
  },
  {
   "cell_type": "code",
   "execution_count": null,
   "id": "a21c695a",
   "metadata": {},
   "outputs": [],
   "source": [
    "# Step 7: FP-Growth Algorithm\n",
    "# Run FP-Growth with the same support threshold.\n",
    "# This is generally faster than Apriori and avoids candidate generation.\n",
    "from mlxtend.frequent_patterns import fpgrowth\n",
    "\n",
    "frequent_itemsets_fpgrowth = fpgrowth(df_encoded, min_support=0.01, use_colnames=True)\n",
    "frequent_itemsets_fpgrowth.sort_values(by='support', ascending=False).head()"
   ]
  },
  {
   "cell_type": "code",
   "execution_count": null,
   "id": "5707537d",
   "metadata": {},
   "outputs": [],
   "source": [
    "# Visualize FP-Growth Itemsets\n",
    "top_fpgrowth = frequent_itemsets_fpgrowth.nlargest(10, 'support')\n",
    "sns.barplot(data=top_fpgrowth, x='support', y=top_fpgrowth['itemsets'].astype(str))\n",
    "plt.title('Top 10 Frequent Itemsets (FP-Growth)')\n",
    "plt.xticks(rotation=45)\n",
    "plt.tight_layout()\n",
    "plt.show()\n"
   ]
  },
  {
   "cell_type": "code",
   "execution_count": null,
   "id": "03747037",
   "metadata": {},
   "outputs": [],
   "source": [
    "# Step 8: Association Rules\n",
    "# Generate association rules from both algorithms.\n",
    "# We evaluate rules using metrics: confidence, lift, and support.\n",
    "rules_apriori = association_rules(frequent_itemsets_apriori, metric='confidence', min_threshold=0.5)\n",
    "rules_fpgrowth = association_rules(frequent_itemsets_fpgrowth, metric='confidence', min_threshold=0.5)\n",
    "\n",
    "# Display a sample of the rules\n",
    "rules_apriori[['antecedents', 'consequents', 'support', 'confidence', 'lift']].head()\n",
    "\n",
    "# Visualize Confidence vs Lift (Apriori)\n",
    "# Helps identify strong, high-confidence rules\n",
    "sns.scatterplot(data=rules_apriori, x='confidence', y='lift')\n",
    "plt.title('Apriori: Confidence vs Lift')\n",
    "plt.show()"
   ]
  },
  {
   "cell_type": "code",
   "execution_count": null,
   "id": "b2af3dd1-c5c2-44d3-887d-5cee03fe73d6",
   "metadata": {},
   "outputs": [],
   "source": [
    "# Visualize Confidence vs Lift (FP-Growth)\n",
    "sns.scatterplot(data=rules_fpgrowth, x='confidence', y='lift')\n",
    "plt.title('FP-Growth: Confidence vs Lift')\n",
    "plt.show()"
   ]
  },
  {
   "cell_type": "code",
   "execution_count": null,
   "id": "d25963f7-14f0-4036-a1a0-e3d7e215af2d",
   "metadata": {},
   "outputs": [],
   "source": [
    "# Step 9: Comparison & Discussion\n",
    "# Summary of performance and insights\n",
    "print(\"\\n--- Comparison ---\")\n",
    "print(f\"Apriori: {len(frequent_itemsets_apriori)} itemsets, {len(rules_apriori)} rules\")\n",
    "print(f\"FP-Growth: {len(frequent_itemsets_fpgrowth)} itemsets, {len(rules_fpgrowth)} rules\")\n",
    "\n",
    "print(\"\\nFP-Growth is generally faster because it avoids candidate generation.\")\n",
    "print(\"Apriori is more intuitive but computationally expensive on large datasets.\")\n"
   ]
  }
 ],
 "metadata": {
  "kernelspec": {
   "display_name": ".venv (3.13.3)",
   "language": "python",
   "name": "python3"
  },
  "language_info": {
   "codemirror_mode": {
    "name": "ipython",
    "version": 3
   },
   "file_extension": ".py",
   "mimetype": "text/x-python",
   "name": "python",
   "nbconvert_exporter": "python",
   "pygments_lexer": "ipython3",
   "version": "3.13.3"
  }
 },
 "nbformat": 4,
 "nbformat_minor": 5
}
